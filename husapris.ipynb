{
 "cells": [
  {
   "cell_type": "code",
   "execution_count": 294,
   "id": "4e2a16d3-08a3-479e-a580-bbb5ed4cb4ad",
   "metadata": {},
   "outputs": [],
   "source": [
    "from bs4 import BeautifulSoup\n",
    "import requests\n",
    "import re\n",
    "import csv\n",
    "\n",
    "import time\n",
    "from selenium import webdriver\n",
    "from selenium.webdriver.common.keys import Keys\n",
    "from selenium.webdriver.common.by import By\n",
    "from selenium.webdriver.chrome.options import Options\n",
    "from selenium.webdriver.support.ui import WebDriverWait\n",
    "from selenium.webdriver.support import expected_conditions as EC"
   ]
  },
  {
   "cell_type": "code",
   "execution_count": 295,
   "id": "5c04c16a-745f-4f08-a282-c34acdd17555",
   "metadata": {
    "editable": true,
    "slideshow": {
     "slide_type": ""
    },
    "tags": []
   },
   "outputs": [],
   "source": [
    "class FaroesProperties:\n",
    "    def __init__(self, website=None, address=None, price=None,\n",
    "                 LatesPrice=None, validDate=None,\n",
    "                 date=None, buildingSize=None,\n",
    "                 landSize=None, room=None,\n",
    "                 floor=None):\n",
    "        if website is None:\n",
    "            self.websites = \"None\"\n",
    "        self.websites = website\n",
    "        if address is None:\n",
    "            self.addresses = \"None\"\n",
    "        self.addresses = address\n",
    "        if prices is None:\n",
    "            self.prices = \"None\"\n",
    "        self.prices = price\n",
    "        if LatestPrices is None:\n",
    "            self.LatestPrices = \"None\"\n",
    "        self.LatestPrices = LatesPrice\n",
    "        if validDates is None:\n",
    "            self.validDates = \"None\"\n",
    "        self.validDates = validDate\n",
    "        if dates is None:\n",
    "            self.dates = \"None\"\n",
    "        self.dates = date\n",
    "        if buildingSizes is None:\n",
    "            self.buildingSizes = \"None\"\n",
    "        self.buildingSizes = buildingSize\n",
    "        if landSize is None:\n",
    "            self.landSizes = \"None\"\n",
    "        self.landSizes = landSize\n",
    "        if rooms is None:\n",
    "            self.rooms = \"None\"\n",
    "        self.rooms = room\n",
    "        if floors is None:\n",
    "            self.floors = \"None\"\n",
    "        self.floors = floor\n",
    "    def display(self):\n",
    "        print(\"Heimasída: \", self.websites, \"\\nAddressa: \", self.addresses,\"\\nPrísur: \", self.prices,\"\\nSeinasti bod: \",\n",
    "              self.LatestPrices, \"\\nGaldandi til dato: \", self.validDates,\"\\nDato: \", self.dates,\n",
    "              \"\\nm2 í húsinum: \", self.buildingSizes,\"\\nm2 á økinum: \", self.landSizes,\n",
    "              \"\\nRúm: \", self.rooms,\"\\nHæddir: \", self.floors, \"\\n\")\n",
    "    def writeToCSV(self):\n",
    "        print(\"test\")"
   ]
  },
  {
   "cell_type": "code",
   "execution_count": 298,
   "id": "726761f6-d73e-482e-94fd-541d65403571",
   "metadata": {
    "editable": true,
    "slideshow": {
     "slide_type": ""
    },
    "tags": []
   },
   "outputs": [],
   "source": [
    "betriURL = 'https://www.betriheim.fo/'\n",
    "def scrape_page(driver):\n",
    "    url = f\"{betriURL}\"\n",
    "    driver.get(url)\n",
    "    time.sleep(2)  # Give the page time to load\n",
    "\n",
    "    return driver.page_source\n",
    "\n",
    "# Starts up chrome\n",
    "driver = webdriver.Chrome()  \n",
    "try:  \n",
    "    betriResponse = scrape_page(driver)\n",
    "finally:\n",
    "    driver.quit()    \n",
    "\n",
    "\n",
    "# betriResponse = requests.get(betriURL)\n",
    "betriSoup = BeautifulSoup(betriResponse, 'html.parser')\n",
    "\n",
    "skynURL = 'https://www.skyn.fo/ognir-til-soelu'\n",
    "skynResponse = requests.get(skynURL)\n",
    "skynSoup = BeautifulSoup(skynResponse.text, 'html.parser')\n",
    "\n",
    "properties = []"
   ]
  },
  {
   "cell_type": "code",
   "execution_count": 299,
   "id": "109631fb-3c06-4982-9db8-ec9156c500ec",
   "metadata": {
    "editable": true,
    "slideshow": {
     "slide_type": ""
    },
    "tags": []
   },
   "outputs": [],
   "source": [
    "BetriPropertyWrappers = betriSoup.find_all('article', class_=\"c-property c-card grid\")"
   ]
  },
  {
   "cell_type": "code",
   "execution_count": 303,
   "id": "b6401455-0573-4f7b-9d80-34ac2fd438d4",
   "metadata": {},
   "outputs": [],
   "source": [
    "def CheckValueText(property, attribute, classVal):\n",
    "    value = property.find(attribute, class_=classVal)\n",
    "    if value is not None:\n",
    "        value = value.text\n",
    "    else:\n",
    "        value = None\n",
    "    return value"
   ]
  },
  {
   "cell_type": "code",
   "execution_count": 349,
   "id": "332a03a4-a8da-431d-a523-220ba7fed9a4",
   "metadata": {},
   "outputs": [],
   "source": [
    "def addressParse(addresses):\n",
    "    pattern1 = r\"((\\w+ )(\\w+$))\"\n",
    "    pattern2 = r\"(\\w+[ ]?[^0-9]+[ ]?[^0-9]+)\"\n",
    "    pattern3 = r\"([0-9]+\\w?)\"\n",
    "    match1 = re.search(pattern1, addresses)\n",
    "    match2 = re.search(pattern2, addresses)\n",
    "    match3 = re.search(pattern3, addresses)\n",
    "    city = match1.group(3)\n",
    "    postNum = match1.group(2)\n",
    "    address = match2.group(1)\n",
    "    houseNum = match3.group(1)\n",
    "    yield address, houseNum, city, postNum\n",
    "    "
   ]
  },
  {
   "cell_type": "code",
   "execution_count": 391,
   "id": "a2799142-09e6-43c0-be7e-d258b724f577",
   "metadata": {},
   "outputs": [],
   "source": [
    "def priceParse(prices):\n",
    "    if prices:\n",
    "        pattern = r\"(Kr. )\"\n",
    "        match = re.sub(pattern, \"\", prices)\n",
    "        pattern = r\"(\\.)\"\n",
    "        match = re.sub(pattern, \"\", match)\n",
    "        return int(match)"
   ]
  },
  {
   "cell_type": "code",
   "execution_count": 392,
   "id": "57fe8a8c-1a6c-46ac-aca3-4fb2a31581e5",
   "metadata": {},
   "outputs": [],
   "source": [
    "def latestPriceOfferParse(latestPriceOffer):\n",
    "    if latestPriceOffer:\n",
    "        pattern = r\"(Seinasta boð: Kr. )\"\n",
    "        match = re.sub(pattern, \"\", latestPriceOffer)\n",
    "        pattern = r\"(\\.)\"\n",
    "        match = re.sub(pattern, \"\", match)\n",
    "        return int(match)"
   ]
  },
  {
   "cell_type": "code",
   "execution_count": 396,
   "id": "8c244913-5a8e-475b-b958-00d4cdd50aa4",
   "metadata": {
    "editable": true,
    "slideshow": {
     "slide_type": ""
    },
    "tags": []
   },
   "outputs": [
    {
     "name": "stdout",
     "output_type": "stream",
     "text": [
      "None\n",
      "Galdandi til 03-10-2023, kl 14:00\n",
      "None\n",
      "None\n",
      "None\n",
      "Galdandi til 11-09-2023, kl 11:00\n",
      "None\n",
      "None\n",
      "None\n",
      "None\n",
      "None\n",
      "None\n",
      "None\n",
      "None\n",
      "None\n",
      "None\n",
      "None\n"
     ]
    }
   ],
   "source": [
    "for property in BetriPropertyWrappers:\n",
    "    websites = \"Betri\"\n",
    "    addresses = str(CheckValueText(property, 'address', \"medium\"))\n",
    "    addressEntries = addressParse(addresses)\n",
    "    # for address, houseNum, city, postNum in addressEntries:\n",
    "    #     print(address,\"----\",houseNum,\"----\",postNum,\"----\",city)\n",
    "    prices = CheckValueText(property, 'div', \"price\")\n",
    "    priceEntries = int(priceParse(prices))\n",
    "    # print(priceEntries)\n",
    "    latestPriceOffer = CheckValueText(property, 'div', \"latest-offer\")\n",
    "    latestPriceOfferEntries = latestPriceOfferParse(latestPriceOffer)\n",
    "    priceOfferValidDate = CheckValueText(property, 'div', \"valid\")\n",
    "    print(priceOfferValidDate)\n",
    "   \n"
   ]
  },
  {
   "cell_type": "code",
   "execution_count": 344,
   "id": "ba011b45-7520-4e66-a449-a329185d8205",
   "metadata": {
    "editable": true,
    "slideshow": {
     "slide_type": ""
    },
    "tags": []
   },
   "outputs": [],
   "source": [
    "for property in BetriPropertyWrappers:\n",
    "    websites = \"Betri\"\n",
    "    addresses = CheckValueText(property, 'address', \"medium\")\n",
    "    prices = CheckValueText(property, 'div', \"price\")\n",
    "    latestPriceOffer = CheckValueText(property, 'div', \"latest-offer\")\n",
    "    priceOfferValidDate = CheckValueText(property, 'div', \"valid\")\n",
    "    yearBuilt = CheckValueText(property, 'div', \"date\")\n",
    "    insideM2 = CheckValueText(property, 'div',\"building-size\")\n",
    "    outsideM2 = CheckValueText(property, 'div', \"land-size\")\n",
    "    rooms = CheckValueText(property, 'div', \"rooms\")\n",
    "    floors = CheckValueText(property, 'div', \"floors\")\n",
    "    prop = FaroesProperties(websites, addresses,prices,LatestPrices,\n",
    "                            validDates,dates,buildingSizes,\n",
    "                            landSizes,rooms,floors)\n",
    "    properties.append(prop)"
   ]
  },
  {
   "cell_type": "code",
   "execution_count": 284,
   "id": "d54a2336-fb50-4b13-b497-1f433be01e8c",
   "metadata": {},
   "outputs": [],
   "source": [
    "# for prop in properties:\n",
    "    # prop.display()"
   ]
  },
  {
   "cell_type": "code",
   "execution_count": null,
   "id": "262e96ac-78f4-4c9d-8f68-7baedc96deba",
   "metadata": {},
   "outputs": [],
   "source": []
  }
 ],
 "metadata": {
  "kernelspec": {
   "display_name": "Python 3 (ipykernel)",
   "language": "python",
   "name": "python3"
  },
  "language_info": {
   "codemirror_mode": {
    "name": "ipython",
    "version": 3
   },
   "file_extension": ".py",
   "mimetype": "text/x-python",
   "name": "python",
   "nbconvert_exporter": "python",
   "pygments_lexer": "ipython3",
   "version": "3.10.12"
  }
 },
 "nbformat": 4,
 "nbformat_minor": 5
}
